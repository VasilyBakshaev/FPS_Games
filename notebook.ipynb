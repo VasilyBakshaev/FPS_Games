{
  "nbformat": 4,
  "nbformat_minor": 0,
  "metadata": {
    "colab": {
      "provenance": []
    },
    "kernelspec": {
      "name": "python3",
      "display_name": "Python 3"
    },
    "language_info": {
      "name": "python"
    }
  },
  "cells": [
    {
      "cell_type": "markdown",
      "source": [
        "# Predicting FPS in games based on your hardware\n",
        "This is the notebook where I will prepare and explore data and build prediction model."
      ],
      "metadata": {
        "id": "EMk_ZEwvNACy"
      }
    },
    {
      "cell_type": "markdown",
      "source": [
        "## Imports, data loading, first look"
      ],
      "metadata": {
        "id": "0Kd3fkRtNzQU"
      }
    },
    {
      "cell_type": "code",
      "source": [
        "! pip install phik\n",
        "! pip install catboost"
      ],
      "metadata": {
        "colab": {
          "base_uri": "https://localhost:8080/"
        },
        "id": "94-LenEQCO32",
        "outputId": "06c1c118-c2bd-4d12-c2ac-80c0d37ff49b"
      },
      "execution_count": 1,
      "outputs": [
        {
          "output_type": "stream",
          "name": "stdout",
          "text": [
            "Looking in indexes: https://pypi.org/simple, https://us-python.pkg.dev/colab-wheels/public/simple/\n",
            "Requirement already satisfied: phik in /usr/local/lib/python3.8/dist-packages (0.12.2)\n",
            "Requirement already satisfied: scipy>=1.5.2 in /usr/local/lib/python3.8/dist-packages (from phik) (1.7.3)\n",
            "Requirement already satisfied: numpy>=1.18.0 in /usr/local/lib/python3.8/dist-packages (from phik) (1.21.6)\n",
            "Requirement already satisfied: joblib>=0.14.1 in /usr/local/lib/python3.8/dist-packages (from phik) (1.2.0)\n",
            "Requirement already satisfied: pandas>=0.25.1 in /usr/local/lib/python3.8/dist-packages (from phik) (1.3.5)\n",
            "Requirement already satisfied: matplotlib>=2.2.3 in /usr/local/lib/python3.8/dist-packages (from phik) (3.2.2)\n",
            "Requirement already satisfied: pyparsing!=2.0.4,!=2.1.2,!=2.1.6,>=2.0.1 in /usr/local/lib/python3.8/dist-packages (from matplotlib>=2.2.3->phik) (3.0.9)\n",
            "Requirement already satisfied: cycler>=0.10 in /usr/local/lib/python3.8/dist-packages (from matplotlib>=2.2.3->phik) (0.11.0)\n",
            "Requirement already satisfied: python-dateutil>=2.1 in /usr/local/lib/python3.8/dist-packages (from matplotlib>=2.2.3->phik) (2.8.2)\n",
            "Requirement already satisfied: kiwisolver>=1.0.1 in /usr/local/lib/python3.8/dist-packages (from matplotlib>=2.2.3->phik) (1.4.4)\n",
            "Requirement already satisfied: pytz>=2017.3 in /usr/local/lib/python3.8/dist-packages (from pandas>=0.25.1->phik) (2022.6)\n",
            "Requirement already satisfied: six>=1.5 in /usr/local/lib/python3.8/dist-packages (from python-dateutil>=2.1->matplotlib>=2.2.3->phik) (1.15.0)\n",
            "Looking in indexes: https://pypi.org/simple, https://us-python.pkg.dev/colab-wheels/public/simple/\n",
            "Requirement already satisfied: catboost in /usr/local/lib/python3.8/dist-packages (1.1.1)\n",
            "Requirement already satisfied: numpy>=1.16.0 in /usr/local/lib/python3.8/dist-packages (from catboost) (1.21.6)\n",
            "Requirement already satisfied: six in /usr/local/lib/python3.8/dist-packages (from catboost) (1.15.0)\n",
            "Requirement already satisfied: plotly in /usr/local/lib/python3.8/dist-packages (from catboost) (5.5.0)\n",
            "Requirement already satisfied: scipy in /usr/local/lib/python3.8/dist-packages (from catboost) (1.7.3)\n",
            "Requirement already satisfied: matplotlib in /usr/local/lib/python3.8/dist-packages (from catboost) (3.2.2)\n",
            "Requirement already satisfied: pandas>=0.24.0 in /usr/local/lib/python3.8/dist-packages (from catboost) (1.3.5)\n",
            "Requirement already satisfied: graphviz in /usr/local/lib/python3.8/dist-packages (from catboost) (0.10.1)\n",
            "Requirement already satisfied: pytz>=2017.3 in /usr/local/lib/python3.8/dist-packages (from pandas>=0.24.0->catboost) (2022.6)\n",
            "Requirement already satisfied: python-dateutil>=2.7.3 in /usr/local/lib/python3.8/dist-packages (from pandas>=0.24.0->catboost) (2.8.2)\n",
            "Requirement already satisfied: kiwisolver>=1.0.1 in /usr/local/lib/python3.8/dist-packages (from matplotlib->catboost) (1.4.4)\n",
            "Requirement already satisfied: pyparsing!=2.0.4,!=2.1.2,!=2.1.6,>=2.0.1 in /usr/local/lib/python3.8/dist-packages (from matplotlib->catboost) (3.0.9)\n",
            "Requirement already satisfied: cycler>=0.10 in /usr/local/lib/python3.8/dist-packages (from matplotlib->catboost) (0.11.0)\n",
            "Requirement already satisfied: tenacity>=6.2.0 in /usr/local/lib/python3.8/dist-packages (from plotly->catboost) (8.1.0)\n"
          ]
        }
      ]
    },
    {
      "cell_type": "code",
      "source": [
        "from scipy.io.arff import loadarff\n",
        "\n",
        "import pandas as pd\n",
        "import numpy as np\n",
        "import statistics as stat\n",
        "import pickle\n",
        "import matplotlib.pyplot as plt\n",
        "\n",
        "import phik\n",
        "from phik.report import plot_correlation_matrix\n",
        "from phik import report\n",
        "\n",
        "from sklearn.model_selection import GridSearchCV\n",
        "from sklearn.model_selection import train_test_split\n",
        "from sklearn.metrics import mean_squared_error\n",
        "from catboost import CatBoostRegressor"
      ],
      "metadata": {
        "id": "3lYWoKkdVxK7"
      },
      "execution_count": 2,
      "outputs": []
    },
    {
      "cell_type": "code",
      "source": [
        "%%time\n",
        "df = pd.DataFrame(loadarff('/content/drive/MyDrive/Datasets/fps-in-video-games.arff')[0])"
      ],
      "metadata": {
        "colab": {
          "base_uri": "https://localhost:8080/"
        },
        "id": "67N4VbspVwRj",
        "outputId": "ad15241d-614f-417e-891d-4749058ba2f7"
      },
      "execution_count": 3,
      "outputs": [
        {
          "output_type": "stream",
          "name": "stdout",
          "text": [
            "CPU times: user 18.4 s, sys: 2.37 s, total: 20.8 s\n",
            "Wall time: 23.7 s\n"
          ]
        }
      ]
    },
    {
      "cell_type": "code",
      "source": [
        "df.info()"
      ],
      "metadata": {
        "colab": {
          "base_uri": "https://localhost:8080/"
        },
        "id": "sifqYccjOAuI",
        "outputId": "a4635c4c-1f6c-43f3-ac4b-f010ae725da7"
      },
      "execution_count": 4,
      "outputs": [
        {
          "output_type": "stream",
          "name": "stdout",
          "text": [
            "<class 'pandas.core.frame.DataFrame'>\n",
            "RangeIndex: 425833 entries, 0 to 425832\n",
            "Data columns (total 45 columns):\n",
            " #   Column                     Non-Null Count   Dtype  \n",
            "---  ------                     --------------   -----  \n",
            " 0   CpuName                    425833 non-null  object \n",
            " 1   CpuNumberOfCores           425833 non-null  float64\n",
            " 2   CpuNumberOfThreads         425833 non-null  float64\n",
            " 3   CpuBaseClock               425833 non-null  float64\n",
            " 4   CpuCacheL1                 425833 non-null  float64\n",
            " 5   CpuCacheL2                 425833 non-null  float64\n",
            " 6   CpuCacheL3                 420778 non-null  float64\n",
            " 7   CpuDieSize                 223299 non-null  float64\n",
            " 8   CpuFrequency               425833 non-null  float64\n",
            " 9   CpuMultiplier              425833 non-null  float64\n",
            " 10  CpuMultiplierUnlocked      425833 non-null  object \n",
            " 11  CpuProcessSize             425833 non-null  float64\n",
            " 12  CpuTDP                     425833 non-null  float64\n",
            " 13  CpuNumberOfTransistors     199794 non-null  float64\n",
            " 14  CpuTurboClock              425833 non-null  float64\n",
            " 15  GpuName                    425833 non-null  object \n",
            " 16  GpuArchitecture            425833 non-null  object \n",
            " 17  GpuBandwidth               410392 non-null  float64\n",
            " 18  GpuBaseClock               425833 non-null  float64\n",
            " 19  GpuBoostClock              425833 non-null  float64\n",
            " 20  GpuBus nterface            425833 non-null  object \n",
            " 21  GpuNumberOfComputeUnits    68726 non-null   float64\n",
            " 22  GpuDieSize                 414637 non-null  float64\n",
            " 23  GpuDirectX                 425833 non-null  object \n",
            " 24  GpuNumberOfExecutionUnits  12898 non-null   float64\n",
            " 25  GpuFP32Performance         425777 non-null  float64\n",
            " 26  GpuMemoryBus               410392 non-null  float64\n",
            " 27  GpuMemorySize              410392 non-null  float64\n",
            " 28  GpuMemoryType              425833 non-null  object \n",
            " 29  GpuOpenCL                  425833 non-null  object \n",
            " 30  GpuOpenGL                  425833 non-null  object \n",
            " 31  GpuPixelRate               425833 non-null  float64\n",
            " 32  GpuProcessSize             425833 non-null  float64\n",
            " 33  GpuNumberOfROPs            425833 non-null  float64\n",
            " 34  GpuShaderModel             425833 non-null  object \n",
            " 35  GpuNumberOfShadingUnits    425777 non-null  float64\n",
            " 36  GpuNumberOfTMUs            425833 non-null  float64\n",
            " 37  GpuTextureRate             425833 non-null  float64\n",
            " 38  GpuNumberOfTransistors     414294 non-null  float64\n",
            " 39  GpuVulkan                  425833 non-null  object \n",
            " 40  GameName                   425833 non-null  object \n",
            " 41  GameResolution             425833 non-null  float64\n",
            " 42  GameSetting                425833 non-null  object \n",
            " 43  Dataset                    425833 non-null  object \n",
            " 44  FPS                        425833 non-null  float64\n",
            "dtypes: float64(31), object(14)\n",
            "memory usage: 146.2+ MB\n"
          ]
        }
      ]
    },
    {
      "cell_type": "markdown",
      "source": [
        "Initially, the model was trained on all data, but due to the low quality of the model, I decided to remove data from the userbenchmark source from the dataset.  After that, the quality of the model has increased significantly."
      ],
      "metadata": {
        "id": "tYPnlcfqecTD"
      }
    },
    {
      "cell_type": "code",
      "source": [
        "df['Dataset'] = [i.decode('utf-8') for i in df['Dataset']]"
      ],
      "metadata": {
        "id": "Q1AosxMcc-RA"
      },
      "execution_count": 5,
      "outputs": []
    },
    {
      "cell_type": "code",
      "source": [
        "df['Dataset'].unique()"
      ],
      "metadata": {
        "colab": {
          "base_uri": "https://localhost:8080/"
        },
        "id": "i9dvw3fXflsf",
        "outputId": "444215b2-93d0-4439-a5a5-98ab00423b92"
      },
      "execution_count": 6,
      "outputs": [
        {
          "output_type": "execute_result",
          "data": {
            "text/plain": [
              "array(['userbenchmark', 'fpsbenchmark'], dtype=object)"
            ]
          },
          "metadata": {},
          "execution_count": 6
        }
      ]
    },
    {
      "cell_type": "code",
      "source": [
        "df = df[df['Dataset'] == 'fpsbenchmark']"
      ],
      "metadata": {
        "id": "yVfJ0movffl3"
      },
      "execution_count": 7,
      "outputs": []
    },
    {
      "cell_type": "markdown",
      "source": [
        "## Data preparation"
      ],
      "metadata": {
        "id": "SjfWKkYVvWIF"
      }
    },
    {
      "cell_type": "markdown",
      "source": [
        "### Correlation Check"
      ],
      "metadata": {
        "id": "A7HbkXK3GYq1"
      }
    },
    {
      "cell_type": "code",
      "source": [
        "#%%time\n",
        "#phik_overview = df.phik_matrix()"
      ],
      "metadata": {
        "id": "bfjbgZseChMk"
      },
      "execution_count": 8,
      "outputs": []
    },
    {
      "cell_type": "code",
      "source": [
        "%%time\n",
        "\n",
        "#plot_correlation_matrix(phik_overview.values, \n",
        "#                        x_labels=phik_overview.columns, \n",
        "#                        y_labels=phik_overview.index, \n",
        "#                        vmin=0, vmax=1, color_map=\"Blues\", \n",
        "#                        title=r\"correlation $\\phi_K$\", \n",
        "#                        fontsize_factor=0.8, \n",
        "#                        figsize=(19, 19))\n",
        "#plt.tight_layout()\n"
      ],
      "metadata": {
        "colab": {
          "base_uri": "https://localhost:8080/"
        },
        "id": "qHD6XiT6CiqT",
        "outputId": "4d06aaff-d80a-4502-d62a-09718a7c0fcb"
      },
      "execution_count": 9,
      "outputs": [
        {
          "output_type": "stream",
          "name": "stdout",
          "text": [
            "CPU times: user 3 µs, sys: 0 ns, total: 3 µs\n",
            "Wall time: 6.91 µs\n"
          ]
        }
      ]
    },
    {
      "cell_type": "code",
      "source": [
        "#del phik_overview"
      ],
      "metadata": {
        "id": "j-7tBTTnO-gz"
      },
      "execution_count": 10,
      "outputs": []
    },
    {
      "cell_type": "markdown",
      "source": [
        "There is strong correlation between Hardware names and its specifications. So we can delete all of specifications. Also now we have only one resolution, let's remove this column. New dataset will include only CPU, GPU names, game name, game setting and FPS."
      ],
      "metadata": {
        "id": "KGOevjZvOYG3"
      }
    },
    {
      "cell_type": "code",
      "source": [
        "df = df[['CpuName', 'GpuName', 'GameName', 'GameSetting', 'FPS']]"
      ],
      "metadata": {
        "id": "Ti3yCmt3XgDZ"
      },
      "execution_count": 11,
      "outputs": []
    },
    {
      "cell_type": "markdown",
      "source": [
        "Let's fix columns names"
      ],
      "metadata": {
        "id": "OqGC0QYzaV7D"
      }
    },
    {
      "cell_type": "code",
      "source": [
        "df.columns = ['cpu_name', 'gpu_name', 'game_name', 'game_setting','fps']"
      ],
      "metadata": {
        "id": "glLFrbhRaUza"
      },
      "execution_count": 12,
      "outputs": []
    },
    {
      "cell_type": "markdown",
      "source": [
        "Now we need check if we have some missing values"
      ],
      "metadata": {
        "id": "GLKANvOKbN1h"
      }
    },
    {
      "cell_type": "code",
      "source": [
        "df.isna().mean()"
      ],
      "metadata": {
        "colab": {
          "base_uri": "https://localhost:8080/"
        },
        "id": "EfgAJW3EbU1z",
        "outputId": "577ce085-a1bc-45c5-cbfa-be63c1b1c499"
      },
      "execution_count": 13,
      "outputs": [
        {
          "output_type": "execute_result",
          "data": {
            "text/plain": [
              "cpu_name        0.0\n",
              "gpu_name        0.0\n",
              "game_name       0.0\n",
              "game_setting    0.0\n",
              "fps             0.0\n",
              "dtype: float64"
            ]
          },
          "metadata": {},
          "execution_count": 13
        }
      ]
    },
    {
      "cell_type": "markdown",
      "source": [
        "Let's define `cat_features`"
      ],
      "metadata": {
        "id": "vRAnEsIUaJ8y"
      }
    },
    {
      "cell_type": "code",
      "source": [
        "cat_features = ['cpu_name', 'gpu_name', 'game_name', 'game_setting']"
      ],
      "metadata": {
        "id": "UEooHLSzSJ4y"
      },
      "execution_count": 14,
      "outputs": []
    },
    {
      "cell_type": "code",
      "source": [
        "df.describe()"
      ],
      "metadata": {
        "colab": {
          "base_uri": "https://localhost:8080/",
          "height": 300
        },
        "id": "IdGm-qKxOpAi",
        "outputId": "d093c524-1225-45f0-da4b-7652b8729e29"
      },
      "execution_count": 15,
      "outputs": [
        {
          "output_type": "execute_result",
          "data": {
            "text/plain": [
              "                fps\n",
              "count  24624.000000\n",
              "mean     123.959369\n",
              "std       54.610080\n",
              "min       22.200000\n",
              "25%       83.600000\n",
              "50%      114.300000\n",
              "75%      154.100000\n",
              "max      396.400000"
            ],
            "text/html": [
              "\n",
              "  <div id=\"df-4cf28257-c3c6-4c13-ad1b-577448347571\">\n",
              "    <div class=\"colab-df-container\">\n",
              "      <div>\n",
              "<style scoped>\n",
              "    .dataframe tbody tr th:only-of-type {\n",
              "        vertical-align: middle;\n",
              "    }\n",
              "\n",
              "    .dataframe tbody tr th {\n",
              "        vertical-align: top;\n",
              "    }\n",
              "\n",
              "    .dataframe thead th {\n",
              "        text-align: right;\n",
              "    }\n",
              "</style>\n",
              "<table border=\"1\" class=\"dataframe\">\n",
              "  <thead>\n",
              "    <tr style=\"text-align: right;\">\n",
              "      <th></th>\n",
              "      <th>fps</th>\n",
              "    </tr>\n",
              "  </thead>\n",
              "  <tbody>\n",
              "    <tr>\n",
              "      <th>count</th>\n",
              "      <td>24624.000000</td>\n",
              "    </tr>\n",
              "    <tr>\n",
              "      <th>mean</th>\n",
              "      <td>123.959369</td>\n",
              "    </tr>\n",
              "    <tr>\n",
              "      <th>std</th>\n",
              "      <td>54.610080</td>\n",
              "    </tr>\n",
              "    <tr>\n",
              "      <th>min</th>\n",
              "      <td>22.200000</td>\n",
              "    </tr>\n",
              "    <tr>\n",
              "      <th>25%</th>\n",
              "      <td>83.600000</td>\n",
              "    </tr>\n",
              "    <tr>\n",
              "      <th>50%</th>\n",
              "      <td>114.300000</td>\n",
              "    </tr>\n",
              "    <tr>\n",
              "      <th>75%</th>\n",
              "      <td>154.100000</td>\n",
              "    </tr>\n",
              "    <tr>\n",
              "      <th>max</th>\n",
              "      <td>396.400000</td>\n",
              "    </tr>\n",
              "  </tbody>\n",
              "</table>\n",
              "</div>\n",
              "      <button class=\"colab-df-convert\" onclick=\"convertToInteractive('df-4cf28257-c3c6-4c13-ad1b-577448347571')\"\n",
              "              title=\"Convert this dataframe to an interactive table.\"\n",
              "              style=\"display:none;\">\n",
              "        \n",
              "  <svg xmlns=\"http://www.w3.org/2000/svg\" height=\"24px\"viewBox=\"0 0 24 24\"\n",
              "       width=\"24px\">\n",
              "    <path d=\"M0 0h24v24H0V0z\" fill=\"none\"/>\n",
              "    <path d=\"M18.56 5.44l.94 2.06.94-2.06 2.06-.94-2.06-.94-.94-2.06-.94 2.06-2.06.94zm-11 1L8.5 8.5l.94-2.06 2.06-.94-2.06-.94L8.5 2.5l-.94 2.06-2.06.94zm10 10l.94 2.06.94-2.06 2.06-.94-2.06-.94-.94-2.06-.94 2.06-2.06.94z\"/><path d=\"M17.41 7.96l-1.37-1.37c-.4-.4-.92-.59-1.43-.59-.52 0-1.04.2-1.43.59L10.3 9.45l-7.72 7.72c-.78.78-.78 2.05 0 2.83L4 21.41c.39.39.9.59 1.41.59.51 0 1.02-.2 1.41-.59l7.78-7.78 2.81-2.81c.8-.78.8-2.07 0-2.86zM5.41 20L4 18.59l7.72-7.72 1.47 1.35L5.41 20z\"/>\n",
              "  </svg>\n",
              "      </button>\n",
              "      \n",
              "  <style>\n",
              "    .colab-df-container {\n",
              "      display:flex;\n",
              "      flex-wrap:wrap;\n",
              "      gap: 12px;\n",
              "    }\n",
              "\n",
              "    .colab-df-convert {\n",
              "      background-color: #E8F0FE;\n",
              "      border: none;\n",
              "      border-radius: 50%;\n",
              "      cursor: pointer;\n",
              "      display: none;\n",
              "      fill: #1967D2;\n",
              "      height: 32px;\n",
              "      padding: 0 0 0 0;\n",
              "      width: 32px;\n",
              "    }\n",
              "\n",
              "    .colab-df-convert:hover {\n",
              "      background-color: #E2EBFA;\n",
              "      box-shadow: 0px 1px 2px rgba(60, 64, 67, 0.3), 0px 1px 3px 1px rgba(60, 64, 67, 0.15);\n",
              "      fill: #174EA6;\n",
              "    }\n",
              "\n",
              "    [theme=dark] .colab-df-convert {\n",
              "      background-color: #3B4455;\n",
              "      fill: #D2E3FC;\n",
              "    }\n",
              "\n",
              "    [theme=dark] .colab-df-convert:hover {\n",
              "      background-color: #434B5C;\n",
              "      box-shadow: 0px 1px 3px 1px rgba(0, 0, 0, 0.15);\n",
              "      filter: drop-shadow(0px 1px 2px rgba(0, 0, 0, 0.3));\n",
              "      fill: #FFFFFF;\n",
              "    }\n",
              "  </style>\n",
              "\n",
              "      <script>\n",
              "        const buttonEl =\n",
              "          document.querySelector('#df-4cf28257-c3c6-4c13-ad1b-577448347571 button.colab-df-convert');\n",
              "        buttonEl.style.display =\n",
              "          google.colab.kernel.accessAllowed ? 'block' : 'none';\n",
              "\n",
              "        async function convertToInteractive(key) {\n",
              "          const element = document.querySelector('#df-4cf28257-c3c6-4c13-ad1b-577448347571');\n",
              "          const dataTable =\n",
              "            await google.colab.kernel.invokeFunction('convertToInteractive',\n",
              "                                                     [key], {});\n",
              "          if (!dataTable) return;\n",
              "\n",
              "          const docLinkHtml = 'Like what you see? Visit the ' +\n",
              "            '<a target=\"_blank\" href=https://colab.research.google.com/notebooks/data_table.ipynb>data table notebook</a>'\n",
              "            + ' to learn more about interactive tables.';\n",
              "          element.innerHTML = '';\n",
              "          dataTable['output_type'] = 'display_data';\n",
              "          await google.colab.output.renderOutput(dataTable, element);\n",
              "          const docLink = document.createElement('div');\n",
              "          docLink.innerHTML = docLinkHtml;\n",
              "          element.appendChild(docLink);\n",
              "        }\n",
              "      </script>\n",
              "    </div>\n",
              "  </div>\n",
              "  "
            ]
          },
          "metadata": {},
          "execution_count": 15
        }
      ]
    },
    {
      "cell_type": "code",
      "source": [
        "df.sample(3)"
      ],
      "metadata": {
        "colab": {
          "base_uri": "https://localhost:8080/",
          "height": 143
        },
        "id": "4-CBv9jZPDFw",
        "outputId": "15f3a098-98bb-42aa-cecc-49c783b6bcf6"
      },
      "execution_count": 16,
      "outputs": [
        {
          "output_type": "execute_result",
          "data": {
            "text/plain": [
              "                     cpu_name                       gpu_name  \\\n",
              "413793  b'Intel Core i5-8400'     b'NVIDIA GeForce GTX 1660'   \n",
              "416624  b'Intel Core i5-8400'     b'NVIDIA GeForce RTX 2080'   \n",
              "403481   b'AMD Ryzen 7 3800X'  b'NVIDIA GeForce GTX 1660 Ti'   \n",
              "\n",
              "               game_name game_setting    fps  \n",
              "413793  b'airMechStrike'       b'med'  134.6  \n",
              "416624     b'starcraft2'       b'med'  189.8  \n",
              "403481    b'pathOfExile'       b'med'  186.2  "
            ],
            "text/html": [
              "\n",
              "  <div id=\"df-bf0621a8-02d7-48cb-863a-c971f70d468e\">\n",
              "    <div class=\"colab-df-container\">\n",
              "      <div>\n",
              "<style scoped>\n",
              "    .dataframe tbody tr th:only-of-type {\n",
              "        vertical-align: middle;\n",
              "    }\n",
              "\n",
              "    .dataframe tbody tr th {\n",
              "        vertical-align: top;\n",
              "    }\n",
              "\n",
              "    .dataframe thead th {\n",
              "        text-align: right;\n",
              "    }\n",
              "</style>\n",
              "<table border=\"1\" class=\"dataframe\">\n",
              "  <thead>\n",
              "    <tr style=\"text-align: right;\">\n",
              "      <th></th>\n",
              "      <th>cpu_name</th>\n",
              "      <th>gpu_name</th>\n",
              "      <th>game_name</th>\n",
              "      <th>game_setting</th>\n",
              "      <th>fps</th>\n",
              "    </tr>\n",
              "  </thead>\n",
              "  <tbody>\n",
              "    <tr>\n",
              "      <th>413793</th>\n",
              "      <td>b'Intel Core i5-8400'</td>\n",
              "      <td>b'NVIDIA GeForce GTX 1660'</td>\n",
              "      <td>b'airMechStrike'</td>\n",
              "      <td>b'med'</td>\n",
              "      <td>134.6</td>\n",
              "    </tr>\n",
              "    <tr>\n",
              "      <th>416624</th>\n",
              "      <td>b'Intel Core i5-8400'</td>\n",
              "      <td>b'NVIDIA GeForce RTX 2080'</td>\n",
              "      <td>b'starcraft2'</td>\n",
              "      <td>b'med'</td>\n",
              "      <td>189.8</td>\n",
              "    </tr>\n",
              "    <tr>\n",
              "      <th>403481</th>\n",
              "      <td>b'AMD Ryzen 7 3800X'</td>\n",
              "      <td>b'NVIDIA GeForce GTX 1660 Ti'</td>\n",
              "      <td>b'pathOfExile'</td>\n",
              "      <td>b'med'</td>\n",
              "      <td>186.2</td>\n",
              "    </tr>\n",
              "  </tbody>\n",
              "</table>\n",
              "</div>\n",
              "      <button class=\"colab-df-convert\" onclick=\"convertToInteractive('df-bf0621a8-02d7-48cb-863a-c971f70d468e')\"\n",
              "              title=\"Convert this dataframe to an interactive table.\"\n",
              "              style=\"display:none;\">\n",
              "        \n",
              "  <svg xmlns=\"http://www.w3.org/2000/svg\" height=\"24px\"viewBox=\"0 0 24 24\"\n",
              "       width=\"24px\">\n",
              "    <path d=\"M0 0h24v24H0V0z\" fill=\"none\"/>\n",
              "    <path d=\"M18.56 5.44l.94 2.06.94-2.06 2.06-.94-2.06-.94-.94-2.06-.94 2.06-2.06.94zm-11 1L8.5 8.5l.94-2.06 2.06-.94-2.06-.94L8.5 2.5l-.94 2.06-2.06.94zm10 10l.94 2.06.94-2.06 2.06-.94-2.06-.94-.94-2.06-.94 2.06-2.06.94z\"/><path d=\"M17.41 7.96l-1.37-1.37c-.4-.4-.92-.59-1.43-.59-.52 0-1.04.2-1.43.59L10.3 9.45l-7.72 7.72c-.78.78-.78 2.05 0 2.83L4 21.41c.39.39.9.59 1.41.59.51 0 1.02-.2 1.41-.59l7.78-7.78 2.81-2.81c.8-.78.8-2.07 0-2.86zM5.41 20L4 18.59l7.72-7.72 1.47 1.35L5.41 20z\"/>\n",
              "  </svg>\n",
              "      </button>\n",
              "      \n",
              "  <style>\n",
              "    .colab-df-container {\n",
              "      display:flex;\n",
              "      flex-wrap:wrap;\n",
              "      gap: 12px;\n",
              "    }\n",
              "\n",
              "    .colab-df-convert {\n",
              "      background-color: #E8F0FE;\n",
              "      border: none;\n",
              "      border-radius: 50%;\n",
              "      cursor: pointer;\n",
              "      display: none;\n",
              "      fill: #1967D2;\n",
              "      height: 32px;\n",
              "      padding: 0 0 0 0;\n",
              "      width: 32px;\n",
              "    }\n",
              "\n",
              "    .colab-df-convert:hover {\n",
              "      background-color: #E2EBFA;\n",
              "      box-shadow: 0px 1px 2px rgba(60, 64, 67, 0.3), 0px 1px 3px 1px rgba(60, 64, 67, 0.15);\n",
              "      fill: #174EA6;\n",
              "    }\n",
              "\n",
              "    [theme=dark] .colab-df-convert {\n",
              "      background-color: #3B4455;\n",
              "      fill: #D2E3FC;\n",
              "    }\n",
              "\n",
              "    [theme=dark] .colab-df-convert:hover {\n",
              "      background-color: #434B5C;\n",
              "      box-shadow: 0px 1px 3px 1px rgba(0, 0, 0, 0.15);\n",
              "      filter: drop-shadow(0px 1px 2px rgba(0, 0, 0, 0.3));\n",
              "      fill: #FFFFFF;\n",
              "    }\n",
              "  </style>\n",
              "\n",
              "      <script>\n",
              "        const buttonEl =\n",
              "          document.querySelector('#df-bf0621a8-02d7-48cb-863a-c971f70d468e button.colab-df-convert');\n",
              "        buttonEl.style.display =\n",
              "          google.colab.kernel.accessAllowed ? 'block' : 'none';\n",
              "\n",
              "        async function convertToInteractive(key) {\n",
              "          const element = document.querySelector('#df-bf0621a8-02d7-48cb-863a-c971f70d468e');\n",
              "          const dataTable =\n",
              "            await google.colab.kernel.invokeFunction('convertToInteractive',\n",
              "                                                     [key], {});\n",
              "          if (!dataTable) return;\n",
              "\n",
              "          const docLinkHtml = 'Like what you see? Visit the ' +\n",
              "            '<a target=\"_blank\" href=https://colab.research.google.com/notebooks/data_table.ipynb>data table notebook</a>'\n",
              "            + ' to learn more about interactive tables.';\n",
              "          element.innerHTML = '';\n",
              "          dataTable['output_type'] = 'display_data';\n",
              "          await google.colab.output.renderOutput(dataTable, element);\n",
              "          const docLink = document.createElement('div');\n",
              "          docLink.innerHTML = docLinkHtml;\n",
              "          element.appendChild(docLink);\n",
              "        }\n",
              "      </script>\n",
              "    </div>\n",
              "  </div>\n",
              "  "
            ]
          },
          "metadata": {},
          "execution_count": 16
        }
      ]
    },
    {
      "cell_type": "markdown",
      "source": [
        "Fixin `b'...'`"
      ],
      "metadata": {
        "id": "jwv2oEDwv-gU"
      }
    },
    {
      "cell_type": "code",
      "source": [
        "for col in cat_features:\n",
        "  df[col] = [i.decode('utf-8') for i in df[col]]\n",
        "del col"
      ],
      "metadata": {
        "id": "uMRprmRBQRpD"
      },
      "execution_count": 17,
      "outputs": []
    },
    {
      "cell_type": "code",
      "source": [
        "df.sample(3)"
      ],
      "metadata": {
        "colab": {
          "base_uri": "https://localhost:8080/",
          "height": 143
        },
        "id": "uVWkp0OcQ5y9",
        "outputId": "b48702d4-1913-46bd-f168-301599024ae4"
      },
      "execution_count": 18,
      "outputs": [
        {
          "output_type": "execute_result",
          "data": {
            "text/plain": [
              "                   cpu_name                             gpu_name  \\\n",
              "409080  Intel Core i5-8600K           NVIDIA GeForce GTX 1070 Ti   \n",
              "415350  Intel Core i5-8600K  NVIDIA GeForce GTX 1060 6 GB GDDR5X   \n",
              "423697    AMD Ryzen 7 3800X                   AMD Radeon RX 5700   \n",
              "\n",
              "                game_name game_setting    fps  \n",
              "409080       seaOfThieves          max  118.5  \n",
              "415350    leagueOfLegends          max  173.0  \n",
              "423697  totalWar3Kingdoms          max   77.4  "
            ],
            "text/html": [
              "\n",
              "  <div id=\"df-932215f7-96cf-4cb2-bba1-68359cedd42b\">\n",
              "    <div class=\"colab-df-container\">\n",
              "      <div>\n",
              "<style scoped>\n",
              "    .dataframe tbody tr th:only-of-type {\n",
              "        vertical-align: middle;\n",
              "    }\n",
              "\n",
              "    .dataframe tbody tr th {\n",
              "        vertical-align: top;\n",
              "    }\n",
              "\n",
              "    .dataframe thead th {\n",
              "        text-align: right;\n",
              "    }\n",
              "</style>\n",
              "<table border=\"1\" class=\"dataframe\">\n",
              "  <thead>\n",
              "    <tr style=\"text-align: right;\">\n",
              "      <th></th>\n",
              "      <th>cpu_name</th>\n",
              "      <th>gpu_name</th>\n",
              "      <th>game_name</th>\n",
              "      <th>game_setting</th>\n",
              "      <th>fps</th>\n",
              "    </tr>\n",
              "  </thead>\n",
              "  <tbody>\n",
              "    <tr>\n",
              "      <th>409080</th>\n",
              "      <td>Intel Core i5-8600K</td>\n",
              "      <td>NVIDIA GeForce GTX 1070 Ti</td>\n",
              "      <td>seaOfThieves</td>\n",
              "      <td>max</td>\n",
              "      <td>118.5</td>\n",
              "    </tr>\n",
              "    <tr>\n",
              "      <th>415350</th>\n",
              "      <td>Intel Core i5-8600K</td>\n",
              "      <td>NVIDIA GeForce GTX 1060 6 GB GDDR5X</td>\n",
              "      <td>leagueOfLegends</td>\n",
              "      <td>max</td>\n",
              "      <td>173.0</td>\n",
              "    </tr>\n",
              "    <tr>\n",
              "      <th>423697</th>\n",
              "      <td>AMD Ryzen 7 3800X</td>\n",
              "      <td>AMD Radeon RX 5700</td>\n",
              "      <td>totalWar3Kingdoms</td>\n",
              "      <td>max</td>\n",
              "      <td>77.4</td>\n",
              "    </tr>\n",
              "  </tbody>\n",
              "</table>\n",
              "</div>\n",
              "      <button class=\"colab-df-convert\" onclick=\"convertToInteractive('df-932215f7-96cf-4cb2-bba1-68359cedd42b')\"\n",
              "              title=\"Convert this dataframe to an interactive table.\"\n",
              "              style=\"display:none;\">\n",
              "        \n",
              "  <svg xmlns=\"http://www.w3.org/2000/svg\" height=\"24px\"viewBox=\"0 0 24 24\"\n",
              "       width=\"24px\">\n",
              "    <path d=\"M0 0h24v24H0V0z\" fill=\"none\"/>\n",
              "    <path d=\"M18.56 5.44l.94 2.06.94-2.06 2.06-.94-2.06-.94-.94-2.06-.94 2.06-2.06.94zm-11 1L8.5 8.5l.94-2.06 2.06-.94-2.06-.94L8.5 2.5l-.94 2.06-2.06.94zm10 10l.94 2.06.94-2.06 2.06-.94-2.06-.94-.94-2.06-.94 2.06-2.06.94z\"/><path d=\"M17.41 7.96l-1.37-1.37c-.4-.4-.92-.59-1.43-.59-.52 0-1.04.2-1.43.59L10.3 9.45l-7.72 7.72c-.78.78-.78 2.05 0 2.83L4 21.41c.39.39.9.59 1.41.59.51 0 1.02-.2 1.41-.59l7.78-7.78 2.81-2.81c.8-.78.8-2.07 0-2.86zM5.41 20L4 18.59l7.72-7.72 1.47 1.35L5.41 20z\"/>\n",
              "  </svg>\n",
              "      </button>\n",
              "      \n",
              "  <style>\n",
              "    .colab-df-container {\n",
              "      display:flex;\n",
              "      flex-wrap:wrap;\n",
              "      gap: 12px;\n",
              "    }\n",
              "\n",
              "    .colab-df-convert {\n",
              "      background-color: #E8F0FE;\n",
              "      border: none;\n",
              "      border-radius: 50%;\n",
              "      cursor: pointer;\n",
              "      display: none;\n",
              "      fill: #1967D2;\n",
              "      height: 32px;\n",
              "      padding: 0 0 0 0;\n",
              "      width: 32px;\n",
              "    }\n",
              "\n",
              "    .colab-df-convert:hover {\n",
              "      background-color: #E2EBFA;\n",
              "      box-shadow: 0px 1px 2px rgba(60, 64, 67, 0.3), 0px 1px 3px 1px rgba(60, 64, 67, 0.15);\n",
              "      fill: #174EA6;\n",
              "    }\n",
              "\n",
              "    [theme=dark] .colab-df-convert {\n",
              "      background-color: #3B4455;\n",
              "      fill: #D2E3FC;\n",
              "    }\n",
              "\n",
              "    [theme=dark] .colab-df-convert:hover {\n",
              "      background-color: #434B5C;\n",
              "      box-shadow: 0px 1px 3px 1px rgba(0, 0, 0, 0.15);\n",
              "      filter: drop-shadow(0px 1px 2px rgba(0, 0, 0, 0.3));\n",
              "      fill: #FFFFFF;\n",
              "    }\n",
              "  </style>\n",
              "\n",
              "      <script>\n",
              "        const buttonEl =\n",
              "          document.querySelector('#df-932215f7-96cf-4cb2-bba1-68359cedd42b button.colab-df-convert');\n",
              "        buttonEl.style.display =\n",
              "          google.colab.kernel.accessAllowed ? 'block' : 'none';\n",
              "\n",
              "        async function convertToInteractive(key) {\n",
              "          const element = document.querySelector('#df-932215f7-96cf-4cb2-bba1-68359cedd42b');\n",
              "          const dataTable =\n",
              "            await google.colab.kernel.invokeFunction('convertToInteractive',\n",
              "                                                     [key], {});\n",
              "          if (!dataTable) return;\n",
              "\n",
              "          const docLinkHtml = 'Like what you see? Visit the ' +\n",
              "            '<a target=\"_blank\" href=https://colab.research.google.com/notebooks/data_table.ipynb>data table notebook</a>'\n",
              "            + ' to learn more about interactive tables.';\n",
              "          element.innerHTML = '';\n",
              "          dataTable['output_type'] = 'display_data';\n",
              "          await google.colab.output.renderOutput(dataTable, element);\n",
              "          const docLink = document.createElement('div');\n",
              "          docLink.innerHTML = docLinkHtml;\n",
              "          element.appendChild(docLink);\n",
              "        }\n",
              "      </script>\n",
              "    </div>\n",
              "  </div>\n",
              "  "
            ]
          },
          "metadata": {},
          "execution_count": 18
        }
      ]
    },
    {
      "cell_type": "markdown",
      "source": [
        "Fixing games names.\n",
        "\n"
      ],
      "metadata": {
        "id": "PX2EH7UUWpXZ"
      }
    },
    {
      "cell_type": "code",
      "source": [
        "df['game_name'].unique()"
      ],
      "metadata": {
        "colab": {
          "base_uri": "https://localhost:8080/"
        },
        "id": "6gl3tlEjW7z2",
        "outputId": "2ab153a3-3d3d-4a23-d068-d98b13277a91"
      },
      "execution_count": 19,
      "outputs": [
        {
          "output_type": "execute_result",
          "data": {
            "text/plain": [
              "array(['callOfDutyWW2', 'fortnite', 'pathOfExile', 'destiny2',\n",
              "       'radicalHeights', 'leagueOfLegends', 'overwatch',\n",
              "       'playerUnknownsBattlegrounds', 'dota2',\n",
              "       'counterStrikeGlobalOffensive', 'seaOfThieves', 'apexLegends',\n",
              "       'frostpunk', 'totalWar3Kingdoms', 'worldOfTanks', 'battlefield4',\n",
              "       'warframe', 'airMechStrike', 'battletech', 'farCry5', 'starcraft2',\n",
              "       'rainbowSixSiege', 'grandTheftAuto5', 'aWayOut'], dtype=object)"
            ]
          },
          "metadata": {},
          "execution_count": 19
        }
      ]
    },
    {
      "cell_type": "code",
      "source": [
        "df['game_name'] = df['game_name'].replace(\n",
        "    ['callOfDutyWW2', 'fortnite', 'pathOfExile', 'destiny2',\n",
        "       'radicalHeights', 'leagueOfLegends', 'overwatch',\n",
        "       'playerUnknownsBattlegrounds', 'dota2',\n",
        "       'counterStrikeGlobalOffensive', 'seaOfThieves', 'apexLegends',\n",
        "       'frostpunk', 'totalWar3Kingdoms', 'worldOfTanks', 'battlefield4',\n",
        "       'warframe', 'airMechStrike', 'battletech', 'farCry5', 'starcraft2',\n",
        "       'rainbowSixSiege', 'grandTheftAuto5', 'aWayOut'], \n",
        "       \n",
        "       ['Call Of Duty WW2', 'Fortnite', 'Path Of Exile', 'Destiny 2',\n",
        "       'Radical Heights', 'League Of Legends', 'Overwatch',\n",
        "       'Player Unknowns Battlegrounds', 'Dota 2',\n",
        "       'Counter Strike GO', 'Sea Of Thieves', 'Apex Legends',\n",
        "       'Frostpunk', 'Total War 3 Kingdoms', 'World Of Tanks', 'Battlefield 4',\n",
        "       'Warframe', 'Air Mech Strike', 'Battletech', 'Far Cry 5', 'Starcraft 2',\n",
        "       'Rainbow Six Siege', 'Grand Theft Auto 5', 'A Way Out'])"
      ],
      "metadata": {
        "id": "3RnBZBvWRoYm"
      },
      "execution_count": 20,
      "outputs": []
    },
    {
      "cell_type": "markdown",
      "source": [
        "### Removing outliers"
      ],
      "metadata": {
        "id": "Ytwpo7eZrQww"
      }
    },
    {
      "cell_type": "code",
      "source": [
        "df.fps.hist(bins=50)"
      ],
      "metadata": {
        "colab": {
          "base_uri": "https://localhost:8080/",
          "height": 282
        },
        "id": "vV0me5lrrnU5",
        "outputId": "e634645f-c040-431f-f063-f7099ce8858c"
      },
      "execution_count": 21,
      "outputs": [
        {
          "output_type": "execute_result",
          "data": {
            "text/plain": [
              "<matplotlib.axes._subplots.AxesSubplot at 0x7f8496b6b070>"
            ]
          },
          "metadata": {},
          "execution_count": 21
        },
        {
          "output_type": "display_data",
          "data": {
            "text/plain": [
              "<Figure size 432x288 with 1 Axes>"
            ],
            "image/png": "[encoded data removed]"
          },
          "metadata": {
            "needs_background": "light"
          }
        }
      ]
    },
    {
      "cell_type": "markdown",
      "source": [
        "There's no need to fix it"
      ],
      "metadata": {
        "id": "nKP8Oq3-r4OL"
      }
    },
    {
      "cell_type": "markdown",
      "source": [
        "## Model training"
      ],
      "metadata": {
        "id": "rYVByQzaLEkG"
      }
    },
    {
      "cell_type": "code",
      "source": [
        "df.info()"
      ],
      "metadata": {
        "colab": {
          "base_uri": "https://localhost:8080/"
        },
        "id": "glUHGPOgz7kM",
        "outputId": "98c54a4f-d567-4cdd-93ec-bccf6bc62a3e"
      },
      "execution_count": 22,
      "outputs": [
        {
          "output_type": "stream",
          "name": "stdout",
          "text": [
            "<class 'pandas.core.frame.DataFrame'>\n",
            "Int64Index: 24624 entries, 401209 to 425832\n",
            "Data columns (total 5 columns):\n",
            " #   Column        Non-Null Count  Dtype  \n",
            "---  ------        --------------  -----  \n",
            " 0   cpu_name      24624 non-null  object \n",
            " 1   gpu_name      24624 non-null  object \n",
            " 2   game_name     24624 non-null  object \n",
            " 3   game_setting  24624 non-null  object \n",
            " 4   fps           24624 non-null  float64\n",
            "dtypes: float64(1), object(4)\n",
            "memory usage: 1.1+ MB\n"
          ]
        }
      ]
    },
    {
      "cell_type": "markdown",
      "source": [
        "Let's get params for our model"
      ],
      "metadata": {
        "id": "fnRQ4gVsNUIv"
      }
    },
    {
      "cell_type": "code",
      "source": [
        "%%time\n",
        "y = ['fps']\n",
        "X = ['cpu_name', 'gpu_name', 'game_name', 'game_setting']\n",
        "\n",
        "X_train, X_test, y_train, y_test = train_test_split(df[X], df[y], test_size=0.25, random_state=80)\n",
        "\n",
        "params = {\n",
        "    'loss_function': 'RMSE',\n",
        "    'eval_metric': 'RMSE',\n",
        "    'verbose': 200,\n",
        "    'random_seed': 171022,\n",
        "    'cat_features': cat_features,\n",
        "    'iterations': 1000,\n",
        "}\n",
        "model = CatBoostRegressor(**params)\n",
        "grid = {'learning_rate': [0.29, 0.3, 0.31], 'depth': [7, 8, 9], }\n",
        "grid_search_result = model.grid_search(grid, X=X_train, y=y_train)\n",
        "\n",
        "\n"
      ],
      "metadata": {
        "colab": {
          "base_uri": "https://localhost:8080/"
        },
        "id": "T37s5LgdLPuu",
        "outputId": "53264194-bebb-499f-8f4d-cb206cdc8976"
      },
      "execution_count": 23,
      "outputs": [
        {
          "output_type": "stream",
          "name": "stdout",
          "text": [
            "0:\tlearn: 102.8504444\ttest: 104.6322492\tbest: 104.6322492 (0)\ttotal: 53ms\tremaining: 53s\n",
            "200:\tlearn: 6.0284570\ttest: 3.7708673\tbest: 3.7673667 (198)\ttotal: 1.75s\tremaining: 6.96s\n",
            "400:\tlearn: 4.7452048\ttest: 3.3682069\tbest: 3.3659832 (397)\ttotal: 3.47s\tremaining: 5.19s\n",
            "600:\tlearn: 4.0223450\ttest: 3.2581396\tbest: 3.2581396 (600)\ttotal: 5.05s\tremaining: 3.35s\n",
            "800:\tlearn: 3.5836092\ttest: 3.2206031\tbest: 3.2171158 (746)\ttotal: 6.62s\tremaining: 1.65s\n",
            "999:\tlearn: 3.2511211\ttest: 3.2026274\tbest: 3.2021471 (977)\ttotal: 8.18s\tremaining: 0us\n",
            "\n",
            "bestTest = 3.20214707\n",
            "bestIteration = 977\n",
            "\n",
            "0:\tloss: 3.2021471\tbest: 3.2021471 (0)\ttotal: 8.25s\tremaining: 1m 5s\n",
            "0:\tlearn: 101.7744667\ttest: 103.5565430\tbest: 103.5565430 (0)\ttotal: 4.98ms\tremaining: 4.98s\n",
            "200:\tlearn: 5.9442111\ttest: 3.7739806\tbest: 3.7675690 (193)\ttotal: 1.58s\tremaining: 6.3s\n",
            "400:\tlearn: 4.6658922\ttest: 3.3830524\tbest: 3.3830524 (400)\ttotal: 3.2s\tremaining: 4.78s\n",
            "600:\tlearn: 3.9131568\ttest: 3.2547004\tbest: 3.2487971 (595)\ttotal: 4.88s\tremaining: 3.24s\n",
            "800:\tlearn: 3.4702054\ttest: 3.2034224\tbest: 3.2013299 (794)\ttotal: 6.57s\tremaining: 1.63s\n",
            "999:\tlearn: 3.1263845\ttest: 3.1817393\tbest: 3.1747414 (896)\ttotal: 8.21s\tremaining: 0us\n",
            "\n",
            "bestTest = 3.174741423\n",
            "bestIteration = 896\n",
            "\n",
            "1:\tloss: 3.1747414\tbest: 3.1747414 (1)\ttotal: 16.5s\tremaining: 57.8s\n",
            "0:\tlearn: 100.7024930\ttest: 102.4847733\tbest: 102.4847733 (0)\ttotal: 5.34ms\tremaining: 5.34s\n",
            "200:\tlearn: 5.9321740\ttest: 3.8180322\tbest: 3.8128351 (199)\ttotal: 2.85s\tremaining: 11.4s\n",
            "400:\tlearn: 4.6219767\ttest: 3.4062616\tbest: 3.4011993 (393)\ttotal: 5.42s\tremaining: 8.1s\n",
            "600:\tlearn: 3.8779775\ttest: 3.2402508\tbest: 3.2365704 (592)\ttotal: 7.02s\tremaining: 4.66s\n",
            "800:\tlearn: 3.4201624\ttest: 3.2076608\tbest: 3.2038259 (790)\ttotal: 8.65s\tremaining: 2.15s\n",
            "999:\tlearn: 3.0699873\ttest: 3.1795286\tbest: 3.1788889 (998)\ttotal: 10.2s\tremaining: 0us\n",
            "\n",
            "bestTest = 3.178888895\n",
            "bestIteration = 998\n",
            "\n",
            "2:\tloss: 3.1788889\tbest: 3.1747414 (1)\ttotal: 26.8s\tremaining: 53.6s\n",
            "0:\tlearn: 102.8504444\ttest: 104.6322492\tbest: 104.6322492 (0)\ttotal: 5.18ms\tremaining: 5.17s\n",
            "200:\tlearn: 5.2278916\ttest: 3.4931769\tbest: 3.4931769 (200)\ttotal: 1.99s\tremaining: 7.91s\n",
            "400:\tlearn: 3.7740989\ttest: 3.2170446\tbest: 3.2079852 (390)\ttotal: 4.01s\tremaining: 5.99s\n",
            "600:\tlearn: 3.0750184\ttest: 3.1941317\tbest: 3.1766017 (572)\ttotal: 5.97s\tremaining: 3.96s\n",
            "800:\tlearn: 2.5775436\ttest: 3.1619264\tbest: 3.1619092 (708)\ttotal: 7.98s\tremaining: 1.98s\n",
            "999:\tlearn: 2.2241691\ttest: 3.1331079\tbest: 3.1322368 (954)\ttotal: 9.94s\tremaining: 0us\n",
            "\n",
            "bestTest = 3.132236799\n",
            "bestIteration = 954\n",
            "\n",
            "3:\tloss: 3.1322368\tbest: 3.1322368 (3)\ttotal: 36.8s\tremaining: 46s\n",
            "0:\tlearn: 101.7744667\ttest: 103.5565430\tbest: 103.5565430 (0)\ttotal: 5.25ms\tremaining: 5.25s\n",
            "200:\tlearn: 5.1402171\ttest: 3.4824558\tbest: 3.4824558 (200)\ttotal: 1.95s\tremaining: 7.75s\n",
            "400:\tlearn: 3.7528742\ttest: 3.2422899\tbest: 3.2422001 (399)\ttotal: 4.03s\tremaining: 6.01s\n",
            "600:\tlearn: 2.9808427\ttest: 3.1623793\tbest: 3.1618508 (598)\ttotal: 6.02s\tremaining: 4s\n",
            "800:\tlearn: 2.4962266\ttest: 3.1313363\tbest: 3.1281332 (781)\ttotal: 8.02s\tremaining: 1.99s\n",
            "999:\tlearn: 2.1354841\ttest: 3.1119125\tbest: 3.1119125 (999)\ttotal: 9.96s\tremaining: 0us\n",
            "\n",
            "bestTest = 3.111912465\n",
            "bestIteration = 999\n",
            "\n",
            "4:\tloss: 3.1119125\tbest: 3.1119125 (4)\ttotal: 46.8s\tremaining: 37.4s\n",
            "0:\tlearn: 100.7024930\ttest: 102.4847733\tbest: 102.4847733 (0)\ttotal: 4.88ms\tremaining: 4.88s\n",
            "200:\tlearn: 5.0839577\ttest: 3.5330848\tbest: 3.5271874 (198)\ttotal: 1.94s\tremaining: 7.7s\n",
            "400:\tlearn: 3.7409053\ttest: 3.2928260\tbest: 3.2928260 (400)\ttotal: 3.91s\tremaining: 5.83s\n",
            "600:\tlearn: 2.9781129\ttest: 3.2082188\tbest: 3.2075875 (599)\ttotal: 5.87s\tremaining: 3.9s\n",
            "800:\tlearn: 2.5041772\ttest: 3.1845110\tbest: 3.1781012 (785)\ttotal: 7.84s\tremaining: 1.95s\n",
            "999:\tlearn: 2.1255462\ttest: 3.1779830\tbest: 3.1736261 (896)\ttotal: 9.8s\tremaining: 0us\n",
            "\n",
            "bestTest = 3.173626084\n",
            "bestIteration = 896\n",
            "\n",
            "5:\tloss: 3.1736261\tbest: 3.1119125 (4)\ttotal: 56.6s\tremaining: 28.3s\n",
            "0:\tlearn: 102.8504444\ttest: 104.6322492\tbest: 104.6322492 (0)\ttotal: 5.29ms\tremaining: 5.29s\n",
            "200:\tlearn: 4.4164764\ttest: 3.3850152\tbest: 3.3850152 (200)\ttotal: 2.51s\tremaining: 9.96s\n",
            "400:\tlearn: 2.9442340\ttest: 3.1893449\tbest: 3.1815850 (390)\ttotal: 5.05s\tremaining: 7.55s\n",
            "600:\tlearn: 2.1578319\ttest: 3.1676903\tbest: 3.1596402 (569)\ttotal: 7.76s\tremaining: 5.16s\n",
            "800:\tlearn: 1.6927819\ttest: 3.1510661\tbest: 3.1460154 (784)\ttotal: 11.2s\tremaining: 2.77s\n",
            "999:\tlearn: 1.3919709\ttest: 3.1389093\tbest: 3.1350100 (964)\ttotal: 13.7s\tremaining: 0us\n",
            "\n",
            "bestTest = 3.135010005\n",
            "bestIteration = 964\n",
            "\n",
            "6:\tloss: 3.1350100\tbest: 3.1119125 (4)\ttotal: 1m 10s\tremaining: 20.1s\n",
            "0:\tlearn: 101.7744667\ttest: 103.5565430\tbest: 103.5565430 (0)\ttotal: 5.16ms\tremaining: 5.16s\n",
            "200:\tlearn: 4.3516015\ttest: 3.4604631\tbest: 3.4482504 (168)\ttotal: 2.55s\tremaining: 10.1s\n",
            "400:\tlearn: 2.8370235\ttest: 3.2219783\tbest: 3.2180183 (397)\ttotal: 5.17s\tremaining: 7.72s\n",
            "600:\tlearn: 2.0939507\ttest: 3.2063140\tbest: 3.2063140 (600)\ttotal: 7.79s\tremaining: 5.17s\n",
            "800:\tlearn: 1.6203807\ttest: 3.2164063\tbest: 3.2041326 (606)\ttotal: 10.4s\tremaining: 2.58s\n",
            "999:\tlearn: 1.2952802\ttest: 3.2046445\tbest: 3.2041326 (606)\ttotal: 12.9s\tremaining: 0us\n",
            "\n",
            "bestTest = 3.204132641\n",
            "bestIteration = 606\n",
            "\n",
            "7:\tloss: 3.2041326\tbest: 3.1119125 (4)\ttotal: 1m 23s\tremaining: 10.4s\n",
            "0:\tlearn: 100.7024930\ttest: 102.4847733\tbest: 102.4847733 (0)\ttotal: 5.01ms\tremaining: 5s\n",
            "200:\tlearn: 4.2531397\ttest: 3.4953459\tbest: 3.4934308 (199)\ttotal: 2.52s\tremaining: 10s\n",
            "400:\tlearn: 2.7701826\ttest: 3.2154428\tbest: 3.2154428 (400)\ttotal: 5.12s\tremaining: 7.64s\n",
            "600:\tlearn: 2.0171906\ttest: 3.1841933\tbest: 3.1722309 (551)\ttotal: 7.82s\tremaining: 5.19s\n",
            "800:\tlearn: 1.5679409\ttest: 3.1454506\tbest: 3.1411299 (758)\ttotal: 10.4s\tremaining: 2.59s\n",
            "999:\tlearn: 1.2736160\ttest: 3.1467690\tbest: 3.1410289 (899)\ttotal: 13s\tremaining: 0us\n",
            "\n",
            "bestTest = 3.141028888\n",
            "bestIteration = 899\n",
            "\n",
            "8:\tloss: 3.1410289\tbest: 3.1119125 (4)\ttotal: 1m 36s\tremaining: 0us\n",
            "Estimating final quality...\n",
            "Training on fold [0/3]\n",
            "0:\tlearn: 101.9374293\ttest: 102.3171840\tbest: 102.3171840 (0)\ttotal: 4.67ms\tremaining: 4.66s\n",
            "200:\tlearn: 5.7520361\ttest: 4.8019639\tbest: 4.8008873 (198)\ttotal: 1.75s\tremaining: 6.96s\n",
            "400:\tlearn: 4.1970008\ttest: 4.4716798\tbest: 4.4612642 (381)\ttotal: 3.5s\tremaining: 5.23s\n",
            "600:\tlearn: 3.2947146\ttest: 4.3102539\tbest: 4.3102539 (600)\ttotal: 5.3s\tremaining: 3.52s\n",
            "800:\tlearn: 2.6472117\ttest: 4.1919382\tbest: 4.1919382 (800)\ttotal: 7.1s\tremaining: 1.76s\n",
            "999:\tlearn: 2.2419144\ttest: 4.1679500\tbest: 4.1644069 (989)\ttotal: 8.9s\tremaining: 0us\n",
            "\n",
            "bestTest = 4.164406948\n",
            "bestIteration = 989\n",
            "\n",
            "Training on fold [1/3]\n",
            "0:\tlearn: 102.1853621\ttest: 101.8149485\tbest: 101.8149485 (0)\ttotal: 4.68ms\tremaining: 4.67s\n",
            "200:\tlearn: 5.7228337\ttest: 4.0564193\tbest: 4.0556488 (199)\ttotal: 1.79s\tremaining: 7.11s\n",
            "400:\tlearn: 4.0347930\ttest: 3.7209139\tbest: 3.7206899 (398)\ttotal: 3.56s\tremaining: 5.32s\n",
            "600:\tlearn: 3.1145948\ttest: 3.5921656\tbest: 3.5921656 (600)\ttotal: 5.35s\tremaining: 3.55s\n",
            "800:\tlearn: 2.5302259\ttest: 3.5705256\tbest: 3.5696795 (796)\ttotal: 7.12s\tremaining: 1.77s\n",
            "999:\tlearn: 2.1390875\ttest: 3.5496604\tbest: 3.5496604 (999)\ttotal: 8.9s\tremaining: 0us\n",
            "\n",
            "bestTest = 3.549660385\n",
            "bestIteration = 999\n",
            "\n",
            "Training on fold [2/3]\n",
            "0:\tlearn: 102.0468655\ttest: 102.0392719\tbest: 102.0392719 (0)\ttotal: 4.6ms\tremaining: 4.6s\n",
            "200:\tlearn: 4.9611446\ttest: 3.9142931\tbest: 3.9142931 (200)\ttotal: 1.81s\tremaining: 7.2s\n",
            "400:\tlearn: 3.4792490\ttest: 3.5592693\tbest: 3.5586393 (399)\ttotal: 3.63s\tremaining: 5.43s\n",
            "600:\tlearn: 2.6890984\ttest: 3.3738670\tbest: 3.3738670 (600)\ttotal: 5.39s\tremaining: 3.58s\n",
            "800:\tlearn: 2.1751068\ttest: 3.3443112\tbest: 3.3426775 (798)\ttotal: 7.16s\tremaining: 1.78s\n",
            "999:\tlearn: 1.8094411\ttest: 3.3342634\tbest: 3.3315148 (956)\ttotal: 8.93s\tremaining: 0us\n",
            "\n",
            "bestTest = 3.331514766\n",
            "bestIteration = 956\n",
            "\n",
            "CPU times: user 3min 39s, sys: 23.7 s, total: 4min 2s\n",
            "Wall time: 2min 14s\n"
          ]
        }
      ]
    },
    {
      "cell_type": "code",
      "source": [
        "params = model.get_params()\n",
        "params"
      ],
      "metadata": {
        "colab": {
          "base_uri": "https://localhost:8080/"
        },
        "id": "MyESH8jaMNZH",
        "outputId": "08e980cc-3091-4ece-fcc5-c0f15ab9ec98"
      },
      "execution_count": 24,
      "outputs": [
        {
          "output_type": "execute_result",
          "data": {
            "text/plain": [
              "{'iterations': 1000,\n",
              " 'loss_function': 'RMSE',\n",
              " 'random_seed': 171022,\n",
              " 'verbose': 200,\n",
              " 'eval_metric': 'RMSE',\n",
              " 'cat_features': ['cpu_name', 'gpu_name', 'game_name', 'game_setting'],\n",
              " 'depth': 8,\n",
              " 'learning_rate': 0.3}"
            ]
          },
          "metadata": {},
          "execution_count": 24
        }
      ]
    },
    {
      "cell_type": "code",
      "source": [
        "min(grid_search_result['cv_results']['test-RMSE-mean'])"
      ],
      "metadata": {
        "colab": {
          "base_uri": "https://localhost:8080/"
        },
        "id": "kzCxPaGZMRjK",
        "outputId": "ca0a9121-f5f0-4cc3-da51-7c8c03e865d6"
      },
      "execution_count": 25,
      "outputs": [
        {
          "output_type": "execute_result",
          "data": {
            "text/plain": [
              "3.6839279586036446"
            ]
          },
          "metadata": {},
          "execution_count": 25
        }
      ]
    },
    {
      "cell_type": "markdown",
      "source": [
        "Validation on test data"
      ],
      "metadata": {
        "id": "-qmltYQ3NBDC"
      }
    },
    {
      "cell_type": "code",
      "source": [
        "mean_squared_error(y_test, model.predict(X_test))**0.5"
      ],
      "metadata": {
        "colab": {
          "base_uri": "https://localhost:8080/"
        },
        "id": "7GZXh6__M8eo",
        "outputId": "82d25bb0-989e-4bac-bcdd-f6bb1381c0d6"
      },
      "execution_count": 26,
      "outputs": [
        {
          "output_type": "execute_result",
          "data": {
            "text/plain": [
              "3.3001835226401397"
            ]
          },
          "metadata": {},
          "execution_count": 26
        }
      ]
    },
    {
      "cell_type": "markdown",
      "source": [
        "Training on full dataset and saving model"
      ],
      "metadata": {
        "id": "tLXkNJCLPqiy"
      }
    },
    {
      "cell_type": "code",
      "source": [
        "model = CatBoostRegressor(**params)\n",
        "model.fit(df[X], df[y])\n",
        "pickle.dump(model, open('model.pkt', 'wb'))"
      ],
      "metadata": {
        "colab": {
          "base_uri": "https://localhost:8080/"
        },
        "id": "XxetREkpP3PW",
        "outputId": "b6e58717-a232-4ca4-a9b0-c822c08dc02e"
      },
      "execution_count": 27,
      "outputs": [
        {
          "output_type": "stream",
          "name": "stdout",
          "text": [
            "0:\tlearn: 40.7901348\ttotal: 19.5ms\tremaining: 19.5s\n",
            "200:\tlearn: 5.7990834\ttotal: 2.73s\tremaining: 10.8s\n",
            "400:\tlearn: 5.0312089\ttotal: 5.45s\tremaining: 8.14s\n",
            "600:\tlearn: 4.5684600\ttotal: 8.09s\tremaining: 5.37s\n",
            "800:\tlearn: 4.2594448\ttotal: 10.7s\tremaining: 2.67s\n",
            "999:\tlearn: 4.0398423\ttotal: 13.3s\tremaining: 0us\n"
          ]
        }
      ]
    }
  ]
}